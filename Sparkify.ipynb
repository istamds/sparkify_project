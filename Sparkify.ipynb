{
 "cells": [
  {
   "cell_type": "markdown",
   "metadata": {},
   "source": [
    "# Sparkify Project Workspace\n",
    "This workspace contains a tiny subset (128MB) of the full dataset available (12GB). Feel free to use this workspace to build your project, or to explore a smaller subset with Spark before deploying your cluster on the cloud. Instructions for setting up your Spark cluster is included in the last lesson of the Extracurricular Spark Course content.\n",
    "\n",
    "You can follow the steps below to guide your data analysis and model building portion of this project."
   ]
  },
  {
   "cell_type": "markdown",
   "metadata": {},
   "source": [
    "# Environment Set-Up"
   ]
  },
  {
   "cell_type": "code",
   "execution_count": 1,
   "metadata": {},
   "outputs": [],
   "source": [
    "# Environment Set-Up (Import of libraries etc.)\n",
    "from pyspark.sql import SparkSession\n",
    "from pyspark.sql.functions import isnan, count, countDistinct, when, col, desc, udf, col, sort_array, asc, avg, from_unixtime, lit, last\n",
    "from pyspark.sql.functions import sum as Fsum\n",
    "from pyspark.sql.window import Window\n",
    "from pyspark.sql.types import IntegerType\n",
    "from pyspark.ml.feature import VectorAssembler, MinMaxScaler\n",
    "from pyspark.ml.classification import LogisticRegression\n",
    "from pyspark.ml.classification import RandomForestClassifier\n",
    "from pyspark.ml.classification import GBTClassifier\n",
    "from pyspark.ml.evaluation import MulticlassClassificationEvaluator\n",
    "from pyspark.ml import Pipeline\n",
    "from pyspark.ml.tuning import CrossValidator, ParamGridBuilder\n",
    "\n",
    "import matplotlib.pyplot as plt\n",
    "import seaborn as sns\n",
    "import numpy as np\n",
    "import pandas as pd\n",
    "\n",
    "import time\n",
    "\n",
    "%matplotlib inline"
   ]
  },
  {
   "cell_type": "code",
   "execution_count": 46,
   "metadata": {},
   "outputs": [],
   "source": [
    "# Start-Up Spark\n",
    "spark = SparkSession \\\n",
    "    .builder \\\n",
    "    .appName(\"Sparkify Project Local\") \\\n",
    "    .getOrCreate()"
   ]
  },
  {
   "cell_type": "markdown",
   "metadata": {},
   "source": [
    "# Load and Clean Dataset\n",
    "In this workspace, the mini-dataset file is `mini_sparkify_event_data.json`. Load and clean the dataset, checking for invalid or missing data - for example, records without userids or sessionids. "
   ]
  },
  {
   "cell_type": "code",
   "execution_count": 47,
   "metadata": {},
   "outputs": [
    {
     "data": {
      "text/plain": [
       "DataFrame[artist: string, auth: string, firstName: string, gender: string, itemInSession: bigint, lastName: string, length: double, level: string, location: string, method: string, page: string, registration: bigint, sessionId: bigint, song: string, status: bigint, ts: bigint, userAgent: string, userId: string]"
      ]
     },
     "execution_count": 47,
     "metadata": {},
     "output_type": "execute_result"
    }
   ],
   "source": [
    "# Read in the dataset\n",
    "df = spark.read.json(\"mini_sparkify_event_data.json\")\n",
    "df.persist()"
   ]
  },
  {
   "cell_type": "code",
   "execution_count": 48,
   "metadata": {},
   "outputs": [
    {
     "name": "stdout",
     "output_type": "stream",
     "text": [
      "root\n",
      " |-- artist: string (nullable = true)\n",
      " |-- auth: string (nullable = true)\n",
      " |-- firstName: string (nullable = true)\n",
      " |-- gender: string (nullable = true)\n",
      " |-- itemInSession: long (nullable = true)\n",
      " |-- lastName: string (nullable = true)\n",
      " |-- length: double (nullable = true)\n",
      " |-- level: string (nullable = true)\n",
      " |-- location: string (nullable = true)\n",
      " |-- method: string (nullable = true)\n",
      " |-- page: string (nullable = true)\n",
      " |-- registration: long (nullable = true)\n",
      " |-- sessionId: long (nullable = true)\n",
      " |-- song: string (nullable = true)\n",
      " |-- status: long (nullable = true)\n",
      " |-- ts: long (nullable = true)\n",
      " |-- userAgent: string (nullable = true)\n",
      " |-- userId: string (nullable = true)\n",
      "\n"
     ]
    }
   ],
   "source": [
    "# Get an overview of the dataset schema\n",
    "df.printSchema()"
   ]
  },
  {
   "cell_type": "code",
   "execution_count": 49,
   "metadata": {},
   "outputs": [
    {
     "data": {
      "text/plain": [
       "[Row(artist='Martha Tilston', auth='Logged In', firstName='Colin', gender='M', itemInSession=50, lastName='Freeman', length=277.89016, level='paid', location='Bakersfield, CA', method='PUT', page='NextSong', registration=1538173362000, sessionId=29, song='Rockpools', status=200, ts=1538352117000, userAgent='Mozilla/5.0 (Windows NT 6.1; WOW64; rv:31.0) Gecko/20100101 Firefox/31.0', userId='30'),\n",
       " Row(artist='Five Iron Frenzy', auth='Logged In', firstName='Micah', gender='M', itemInSession=79, lastName='Long', length=236.09424, level='free', location='Boston-Cambridge-Newton, MA-NH', method='PUT', page='NextSong', registration=1538331630000, sessionId=8, song='Canada', status=200, ts=1538352180000, userAgent='\"Mozilla/5.0 (Windows NT 6.1; WOW64) AppleWebKit/537.36 (KHTML, like Gecko) Chrome/37.0.2062.103 Safari/537.36\"', userId='9')]"
      ]
     },
     "execution_count": 49,
     "metadata": {},
     "output_type": "execute_result"
    }
   ],
   "source": [
    "# Check how the data looks like\n",
    "df.head(2)"
   ]
  },
  {
   "cell_type": "code",
   "execution_count": 50,
   "metadata": {},
   "outputs": [
    {
     "name": "stdout",
     "output_type": "stream",
     "text": [
      "+------+----+---------+------+-------------+--------+------+-----+--------+------+----+------------+---------+-----+------+---+---------+------+\n",
      "|artist|auth|firstName|gender|itemInSession|lastName|length|level|location|method|page|registration|sessionId| song|status| ts|userAgent|userId|\n",
      "+------+----+---------+------+-------------+--------+------+-----+--------+------+----+------------+---------+-----+------+---+---------+------+\n",
      "| 58392|   0|     8346|  8346|            0|    8346| 58392|    0|    8346|     0|   0|        8346|        0|58392|     0|  0|     8346|  8346|\n",
      "+------+----+---------+------+-------------+--------+------+-----+--------+------+----+------------+---------+-----+------+---+---------+------+\n",
      "\n"
     ]
    }
   ],
   "source": [
    "# Check for missing values\n",
    "df_missing = df.select([count(when((col(c) == '' ) | \\\n",
    "                            col(c).isNull() | \\\n",
    "                            isnan(c), c)).alias(c) \\\n",
    "                            for c in df.columns])\n",
    "df_missing.show()"
   ]
  },
  {
   "cell_type": "markdown",
   "metadata": {},
   "source": [
    "We see here that there are a lot of missing values of userIds artists, names etc. This is because **for some entries the userId is an empty string**. These are data that we cannot take into account for the rest of the analysis, as we cannot identify which user it is that made the request. The data will be dropped and we will check again for missing values."
   ]
  },
  {
   "cell_type": "code",
   "execution_count": 51,
   "metadata": {},
   "outputs": [],
   "source": [
    "# Filter out entries without user id\n",
    "df = df.filter(df.userId != '')"
   ]
  },
  {
   "cell_type": "code",
   "execution_count": 52,
   "metadata": {},
   "outputs": [
    {
     "name": "stdout",
     "output_type": "stream",
     "text": [
      "+------+----+---------+------+-------------+--------+------+-----+--------+------+----+------------+---------+-----+------+---+---------+------+\n",
      "|artist|auth|firstName|gender|itemInSession|lastName|length|level|location|method|page|registration|sessionId| song|status| ts|userAgent|userId|\n",
      "+------+----+---------+------+-------------+--------+------+-----+--------+------+----+------------+---------+-----+------+---+---------+------+\n",
      "| 50046|   0|        0|     0|            0|       0| 50046|    0|       0|     0|   0|           0|        0|50046|     0|  0|        0|     0|\n",
      "+------+----+---------+------+-------------+--------+------+-----+--------+------+----+------------+---------+-----+------+---+---------+------+\n",
      "\n"
     ]
    }
   ],
   "source": [
    "# Check for missing values again\n",
    "df_missing = df.select([count(when((col(c) == '' ) | \\\n",
    "                            col(c).isNull() | \\\n",
    "                            isnan(c), c)).alias(c) \\\n",
    "                            for c in df.columns])\n",
    "df_missing.show()"
   ]
  },
  {
   "cell_type": "markdown",
   "metadata": {},
   "source": [
    "The remaining missing values are for the fields artist, length and song. Regarding artist and sond this is expected as not all requests should contain a specific song. The length missing for some requests will be left for now as missing value. If we need to use this information in our further analysis, we will resolve the issue."
   ]
  },
  {
   "cell_type": "code",
   "execution_count": 55,
   "metadata": {},
   "outputs": [
    {
     "name": "stdout",
     "output_type": "stream",
     "text": [
      "+------+---------+---------+------+-------------+--------+------+-----+--------------------+------+---------------+-------------+---------+----+------+-------------+--------------------+------+\n",
      "|artist|     auth|firstName|gender|itemInSession|lastName|length|level|            location|method|           page| registration|sessionId|song|status|           ts|           userAgent|userId|\n",
      "+------+---------+---------+------+-------------+--------+------+-----+--------------------+------+---------------+-------------+---------+----+------+-------------+--------------------+------+\n",
      "|  null|Logged In|    Colin|     M|           54| Freeman|  null| paid|     Bakersfield, CA|   PUT|Add to Playlist|1538173362000|       29|null|   200|1538352905000|Mozilla/5.0 (Wind...|    30|\n",
      "|  null|Logged In|    Micah|     M|           84|    Long|  null| free|Boston-Cambridge-...|   GET|    Roll Advert|1538331630000|        8|null|   200|1538353150000|\"Mozilla/5.0 (Win...|     9|\n",
      "|  null|Logged In|    Micah|     M|           86|    Long|  null| free|Boston-Cambridge-...|   PUT|      Thumbs Up|1538331630000|        8|null|   307|1538353376000|\"Mozilla/5.0 (Win...|     9|\n",
      "|  null|Logged In|    Alexi|     F|            4|  Warren|  null| paid|Spokane-Spokane V...|   GET|      Downgrade|1532482662000|       53|null|   200|1538354749000|Mozilla/5.0 (Wind...|    54|\n",
      "|  null|Logged In|    Alexi|     F|            7|  Warren|  null| paid|Spokane-Spokane V...|   PUT|      Thumbs Up|1532482662000|       53|null|   307|1538355255000|Mozilla/5.0 (Wind...|    54|\n",
      "+------+---------+---------+------+-------------+--------+------+-----+--------------------+------+---------------+-------------+---------+----+------+-------------+--------------------+------+\n",
      "only showing top 5 rows\n",
      "\n"
     ]
    }
   ],
   "source": [
    "# Just take a look for requests with missing length\n",
    "df.filter(df.length.isNull()).show(5)"
   ]
  },
  {
   "cell_type": "code",
   "execution_count": 56,
   "metadata": {},
   "outputs": [
    {
     "name": "stdout",
     "output_type": "stream",
     "text": [
      "+---------------+-----+-------------------+\n",
      "|           page|count|            percent|\n",
      "+---------------+-----+-------------------+\n",
      "|      Thumbs Up|12551| 0.2507892738680414|\n",
      "|           Home|10082|0.20145466171122567|\n",
      "|Add to Playlist| 6526|0.13040003197058705|\n",
      "|     Add Friend| 4277|0.08546137553450825|\n",
      "|    Roll Advert| 3933| 0.0785876993166287|\n",
      "+---------------+-----+-------------------+\n",
      "only showing top 5 rows\n",
      "\n"
     ]
    }
   ],
   "source": [
    "# Check which pages have null length\n",
    "df.select(df.length, df.page) \\\n",
    "            .filter(df.length.isNull()) \\\n",
    "            .groupby(df.page).count() \\\n",
    "            .withColumn('percent', col('count')/Fsum('count').over(Window.partitionBy())) \\\n",
    "            .orderBy('count', ascending=False) \\\n",
    "            .show(5)"
   ]
  },
  {
   "cell_type": "markdown",
   "metadata": {},
   "source": [
    "Below we get the summary statistics of all other numeric values. **No further abnormalities are identified**"
   ]
  },
  {
   "cell_type": "code",
   "execution_count": 53,
   "metadata": {},
   "outputs": [
    {
     "name": "stdout",
     "output_type": "stream",
     "text": [
      "+-------+------------------+-----------------+--------------------+------------------+------------------+--------------------+\n",
      "|summary|     itemInSession|           length|        registration|         sessionId|            status|                  ts|\n",
      "+-------+------------------+-----------------+--------------------+------------------+------------------+--------------------+\n",
      "|  count|            278154|           228108|              278154|            278154|            278154|              278154|\n",
      "|   mean|114.89918174824018|249.1171819778458|1.535358834084427...|1042.5616241362698|209.10321620397335|1.540958915431871...|\n",
      "| stddev|  129.851729399489|99.23517921058361| 3.291321616327586E9| 726.5010362219813|30.151388851328214|1.5068287123306298E9|\n",
      "|    min|                 0|          0.78322|       1521380675000|                 1|               200|       1538352117000|\n",
      "|    max|              1321|       3024.66567|       1543247354000|              2474|               404|       1543799476000|\n",
      "+-------+------------------+-----------------+--------------------+------------------+------------------+--------------------+\n",
      "\n"
     ]
    }
   ],
   "source": [
    "# Get summary statistics for numeric values\n",
    "df_sum = df.select([item[0] for item in df.dtypes if not item[1].startswith('string')]).describe().show()"
   ]
  },
  {
   "cell_type": "markdown",
   "metadata": {},
   "source": [
    "# Exploratory Data Analysis\n",
    "\n",
    "When you're working with the full dataset, perform EDA by loading a small subset of the data and doing basic manipulations within Spark. In this workspace, you are already provided a small subset of data you can explore."
   ]
  },
  {
   "cell_type": "code",
   "execution_count": 54,
   "metadata": {},
   "outputs": [
    {
     "data": {
      "text/plain": [
       "225"
      ]
     },
     "execution_count": 54,
     "metadata": {},
     "output_type": "execute_result"
    }
   ],
   "source": [
    "# Get the number of individual users in the dataset\n",
    "df.select('userId').distinct().count()"
   ]
  },
  {
   "cell_type": "code",
   "execution_count": 57,
   "metadata": {},
   "outputs": [],
   "source": [
    "# Calculate the percentages of different type of requests\n",
    "pages_df_pd = df.select(df.page) \\\n",
    "            .groupby(df.page).count() \\\n",
    "            .orderBy('count') \\\n",
    "            .withColumn('percent', col('count')/Fsum('count').over(Window.partitionBy())) \\\n",
    "            .orderBy('percent') \\\n",
    "            .toPandas()"
   ]
  },
  {
   "cell_type": "code",
   "execution_count": 58,
   "metadata": {},
   "outputs": [
    {
     "data": {
      "image/png": "[encoded data removed]",
      "text/plain": [
       "<matplotlib.figure.Figure at 0x7f2889248a58>"
      ]
     },
     "metadata": {},
     "output_type": "display_data"
    }
   ],
   "source": [
    "# Create a barplot of the above percentages\n",
    "sns.set_style(\"whitegrid\")\n",
    "bar,ax = plt.subplots(figsize=(8,8))\n",
    "ax = sns.barplot(y=pages_df_pd['page'].tolist(), x='percent', data=pages_df_pd, ci=None, palette=\"muted\",orient='h', )\n",
    "ax.set_title(\"Type of Request Histogram\", fontsize=15)\n",
    "ax.set_xlabel (\"Percentage of Request\")\n",
    "ax.set_ylabel (\"Type of Request\")\n",
    "plt.show();"
   ]
  },
  {
   "cell_type": "markdown",
   "metadata": {},
   "source": [
    "**As expected the next song request dominates the dataset with 82%.**"
   ]
  },
  {
   "cell_type": "code",
   "execution_count": 59,
   "metadata": {},
   "outputs": [
    {
     "name": "stdout",
     "output_type": "stream",
     "text": [
      "+--------------------+-----+\n",
      "|            location|count|\n",
      "+--------------------+-----+\n",
      "|Los Angeles-Long ...|   16|\n",
      "|New York-Newark-J...|   15|\n",
      "|Phoenix-Mesa-Scot...|    7|\n",
      "|Dallas-Fort Worth...|    7|\n",
      "|Chicago-Napervill...|    6|\n",
      "+--------------------+-----+\n",
      "only showing top 5 rows\n",
      "\n"
     ]
    }
   ],
   "source": [
    "# Get number of users by location\n",
    "df.dropDuplicates([\"userId\"]) \\\n",
    "        .groupBy('location') \\\n",
    "        .count() \\\n",
    "        .orderBy('count', ascending = False) \\\n",
    "        .show(5)"
   ]
  },
  {
   "cell_type": "markdown",
   "metadata": {},
   "source": [
    "In most locations there are too few users, and many location contain just one user. This does not allow to extract safe conclusions for many of the locations and was decided not to further use location in the model."
   ]
  },
  {
   "cell_type": "code",
   "execution_count": 60,
   "metadata": {
    "scrolled": true
   },
   "outputs": [
    {
     "name": "stdout",
     "output_type": "stream",
     "text": [
      "+------+-----+\n",
      "|gender|count|\n",
      "+------+-----+\n",
      "|     F|  104|\n",
      "|     M|  121|\n",
      "+------+-----+\n",
      "\n"
     ]
    }
   ],
   "source": [
    "# Get count by gender\n",
    "df_ch_sex_count = df.dropDuplicates([\"userId\"]).groupBy('gender').count()\n",
    "df_ch_sex_count.show()"
   ]
  },
  {
   "cell_type": "markdown",
   "metadata": {},
   "source": [
    "### Define Churn\n",
    "\n",
    "Once you've done some preliminary analysis, create a column `Churn` to use as the label for your model. I suggest using the `Cancellation Confirmation` events to define your churn, which happen for both paid and free users. As a bonus task, you can also look into the `Downgrade` events.\n",
    "\n",
    "### Explore Data\n",
    "Once you've defined churn, perform some exploratory data analysis to observe the behavior for users who stayed vs users who churned. You can start by exploring aggregates on these two groups of users, observing how much of a specific action they experienced per a certain time unit or number of songs played."
   ]
  },
  {
   "cell_type": "markdown",
   "metadata": {},
   "source": [
    "In this regard we will calculate the churn based on the Cancellation Confirmation request. Users who did this request will be flagged as users who churned in the df_churned datadrame."
   ]
  },
  {
   "cell_type": "code",
   "execution_count": 61,
   "metadata": {},
   "outputs": [],
   "source": [
    "# Calculate which users churned\n",
    "\n",
    "# Function to identify which row contains the Cancellation Confirmation request\n",
    "flag_churn_event = udf(lambda x: 1 if x == 'Cancellation Confirmation' else 0, IntegerType())\n",
    "\n",
    "# Indentify the churn request and if a user has made such a request flag him as churned\n",
    "df_churned = df.withColumn(\"churn_event\", flag_churn_event(\"page\")) \\\n",
    "        .groupBy('userId') \\\n",
    "        .agg({'churn_event':'max'}) \\\n",
    "        .withColumnRenamed('max(churn_event)', 'Churned')\n",
    "\n",
    "# Join the churn flag with original dataframe\n",
    "df_ch = df.join(df_churned, ['userId'], 'left')"
   ]
  },
  {
   "cell_type": "code",
   "execution_count": 62,
   "metadata": {},
   "outputs": [
    {
     "data": {
      "text/plain": [
       "52"
      ]
     },
     "execution_count": 62,
     "metadata": {},
     "output_type": "execute_result"
    }
   ],
   "source": [
    "# Number of users who did churn\n",
    "df_churned.filter(df_churned.Churned == 1).count()"
   ]
  },
  {
   "cell_type": "code",
   "execution_count": 63,
   "metadata": {},
   "outputs": [
    {
     "name": "stdout",
     "output_type": "stream",
     "text": [
      "+-----+------+-----+\n",
      "|level|gender|Churn|\n",
      "+-----+------+-----+\n",
      "| free|     M|  100|\n",
      "| free|     F|   77|\n",
      "| paid|     M|   21|\n",
      "| paid|     F|   27|\n",
      "+-----+------+-----+\n",
      "\n"
     ]
    }
   ],
   "source": [
    "# Get count by level\n",
    "df_level_count = df_ch.dropDuplicates([\"userId\"]).groupBy('level').count()\n",
    "# Get count by level\n",
    "df_gender_count = df_ch.dropDuplicates([\"userId\"]).groupBy('gender').count()\n",
    "\n",
    "# Get percentages churn by level\n",
    "df_ch_level_gender = df_ch.dropDuplicates([\"userId\"]) \\\n",
    "        .groupBy(['level', 'gender']) \\\n",
    "        .agg({'Churned':'count'}) \\\n",
    "        .withColumnRenamed('count(Churned)', 'Churn') \\\n",
    "        .orderBy('level')\n",
    "df_ch_level_gender.show()"
   ]
  },
  {
   "cell_type": "code",
   "execution_count": 64,
   "metadata": {},
   "outputs": [
    {
     "data": {
      "image/png": "[encoded data removed]",
      "text/plain": [
       "<matplotlib.figure.Figure at 0x7f288bcf6ef0>"
      ]
     },
     "metadata": {},
     "output_type": "display_data"
    }
   ],
   "source": [
    "# Create a double pie chart by gender and level of subscription\n",
    "labels_level = [x['level'] for x in df_level_count.select('level').distinct().collect()]\n",
    "sizes_level = [x['count'] for x in df_level_count.select('count').collect()]\n",
    "labels_gender = len(sizes_level)*[x['gender'] for x in df_gender_count.select('gender').distinct().collect()]\n",
    "sizes_gender = [x['Churn'] for x in df_ch_level_gender.select('Churn').collect()]\n",
    "colors = ['#C5B7B4', '#51E783']\n",
    "colors_gender = len(sizes_level)*['#17A8DB','#FC6C9C']\n",
    " \n",
    "plt.pie(sizes_level, labels=labels_level, startangle=90, colors=colors, frame=True)\n",
    "plt.pie(sizes_gender, radius=0.75,startangle=90, colors=colors_gender, autopct='%1.1f%%')\n",
    "centre_circle = plt.Circle((0,0),0.5,color='black', fc='white',linewidth=0)\n",
    "fig = plt.gcf()\n",
    "fig.gca().add_artist(centre_circle)\n",
    " \n",
    "plt.axis('equal')\n",
    "plt.tight_layout()\n",
    "plt.show()"
   ]
  },
  {
   "cell_type": "code",
   "execution_count": 65,
   "metadata": {},
   "outputs": [],
   "source": [
    "# Get a column of the date for each request\n",
    "df_ch = df_ch.withColumn('date', from_unixtime(col('ts')/1000, 'dd/MM/yyyy'))"
   ]
  },
  {
   "cell_type": "code",
   "execution_count": 66,
   "metadata": {},
   "outputs": [
    {
     "name": "stdout",
     "output_type": "stream",
     "text": [
      "+------+--------------+---------+---------+------+-------------+--------+---------+-----+---------------+------+--------+-------------+---------+---------+------+-------------+--------------------+-------+----------+\n",
      "|userId|        artist|     auth|firstName|gender|itemInSession|lastName|   length|level|       location|method|    page| registration|sessionId|     song|status|           ts|           userAgent|Churned|      date|\n",
      "+------+--------------+---------+---------+------+-------------+--------+---------+-----+---------------+------+--------+-------------+---------+---------+------+-------------+--------------------+-------+----------+\n",
      "|    30|Martha Tilston|Logged In|    Colin|     M|           50| Freeman|277.89016| paid|Bakersfield, CA|   PUT|NextSong|1538173362000|       29|Rockpools|   200|1538352117000|Mozilla/5.0 (Wind...|      0|01/10/2018|\n",
      "+------+--------------+---------+---------+------+-------------+--------+---------+-----+---------------+------+--------+-------------+---------+---------+------+-------------+--------------------+-------+----------+\n",
      "only showing top 1 row\n",
      "\n"
     ]
    }
   ],
   "source": [
    "df_ch.show(1)"
   ]
  },
  {
   "cell_type": "code",
   "execution_count": 67,
   "metadata": {},
   "outputs": [
    {
     "name": "stdout",
     "output_type": "stream",
     "text": [
      "+--------------------+-------------------+\n",
      "|            location|       avg(Churned)|\n",
      "+--------------------+-------------------+\n",
      "|     Gainesville, FL|                0.0|\n",
      "|Atlantic City-Ham...|                0.0|\n",
      "|Deltona-Daytona B...|                0.0|\n",
      "|San Diego-Carlsba...|0.46286472148541113|\n",
      "|Cleveland-Elyria, OH|                1.0|\n",
      "|Kingsport-Bristol...|                0.0|\n",
      "|New Haven-Milford...|                0.0|\n",
      "|Birmingham-Hoover...|                1.0|\n",
      "|  Corpus Christi, TX|                1.0|\n",
      "|         Dubuque, IA|                0.0|\n",
      "|Las Vegas-Henders...|                0.0|\n",
      "|Indianapolis-Carm...| 0.9463917525773196|\n",
      "|Seattle-Tacoma-Be...|                0.0|\n",
      "|          Albany, OR|                1.0|\n",
      "|   Winston-Salem, NC|                0.0|\n",
      "|     Bakersfield, CA|                0.0|\n",
      "|Los Angeles-Long ...|   0.18841060701603|\n",
      "|Minneapolis-St. P...|                0.0|\n",
      "|San Francisco-Oak...| 0.2534945221004911|\n",
      "|Phoenix-Mesa-Scot...|0.05179529508873298|\n",
      "+--------------------+-------------------+\n",
      "only showing top 20 rows\n",
      "\n"
     ]
    }
   ],
   "source": [
    "# Get average churn users by location\n",
    "df_ch.groupBy('location') \\\n",
    "        .agg({'Churned':'avg'}) \\\n",
    "        .show()"
   ]
  },
  {
   "cell_type": "code",
   "execution_count": 68,
   "metadata": {},
   "outputs": [
    {
     "name": "stdout",
     "output_type": "stream",
     "text": [
      "Column: Cancel\n",
      "+-------+-----+\n",
      "|Churned|count|\n",
      "+-------+-----+\n",
      "|      1|   52|\n",
      "+-------+-----+\n",
      "\n",
      "\n",
      "Column: Submit Downgrade\n",
      "+-------+-----+\n",
      "|Churned|count|\n",
      "+-------+-----+\n",
      "|      1|    9|\n",
      "|      0|   54|\n",
      "+-------+-----+\n",
      "\n",
      "\n",
      "Column: Thumbs Down\n",
      "+-------+-----+\n",
      "|Churned|count|\n",
      "+-------+-----+\n",
      "|      1|  496|\n",
      "|      0| 2050|\n",
      "+-------+-----+\n",
      "\n",
      "\n",
      "Column: Home\n",
      "+-------+-----+\n",
      "|Churned|count|\n",
      "+-------+-----+\n",
      "|      1| 1672|\n",
      "|      0| 8410|\n",
      "+-------+-----+\n",
      "\n",
      "\n",
      "Column: Downgrade\n",
      "+-------+-----+\n",
      "|Churned|count|\n",
      "+-------+-----+\n",
      "|      1|  337|\n",
      "|      0| 1718|\n",
      "+-------+-----+\n",
      "\n",
      "\n",
      "Column: Roll Advert\n",
      "+-------+-----+\n",
      "|Churned|count|\n",
      "+-------+-----+\n",
      "|      1|  967|\n",
      "|      0| 2966|\n",
      "+-------+-----+\n",
      "\n",
      "\n",
      "Column: Logout\n",
      "+-------+-----+\n",
      "|Churned|count|\n",
      "+-------+-----+\n",
      "|      1|  553|\n",
      "|      0| 2673|\n",
      "+-------+-----+\n",
      "\n",
      "\n",
      "Column: Save Settings\n",
      "+-------+-----+\n",
      "|Churned|count|\n",
      "+-------+-----+\n",
      "|      1|   58|\n",
      "|      0|  252|\n",
      "+-------+-----+\n",
      "\n",
      "\n",
      "Column: Cancellation Confirmation\n",
      "+-------+-----+\n",
      "|Churned|count|\n",
      "+-------+-----+\n",
      "|      1|   52|\n",
      "+-------+-----+\n",
      "\n",
      "\n",
      "Column: About\n",
      "+-------+-----+\n",
      "|Churned|count|\n",
      "+-------+-----+\n",
      "|      1|   56|\n",
      "|      0|  439|\n",
      "+-------+-----+\n",
      "\n",
      "\n",
      "Column: Settings\n",
      "+-------+-----+\n",
      "|Churned|count|\n",
      "+-------+-----+\n",
      "|      1|  270|\n",
      "|      0| 1244|\n",
      "+-------+-----+\n",
      "\n",
      "\n",
      "Column: Add to Playlist\n",
      "+-------+-----+\n",
      "|Churned|count|\n",
      "+-------+-----+\n",
      "|      1| 1038|\n",
      "|      0| 5488|\n",
      "+-------+-----+\n",
      "\n",
      "\n",
      "Column: Add Friend\n",
      "+-------+-----+\n",
      "|Churned|count|\n",
      "+-------+-----+\n",
      "|      1|  636|\n",
      "|      0| 3641|\n",
      "+-------+-----+\n",
      "\n",
      "\n",
      "Column: NextSong\n",
      "+-------+------+\n",
      "|Churned| count|\n",
      "+-------+------+\n",
      "|      1| 36394|\n",
      "|      0|191714|\n",
      "+-------+------+\n",
      "\n",
      "\n",
      "Column: Thumbs Up\n",
      "+-------+-----+\n",
      "|Churned|count|\n",
      "+-------+-----+\n",
      "|      1| 1859|\n",
      "|      0|10692|\n",
      "+-------+-----+\n",
      "\n",
      "\n",
      "Column: Help\n",
      "+-------+-----+\n",
      "|Churned|count|\n",
      "+-------+-----+\n",
      "|      1|  239|\n",
      "|      0| 1215|\n",
      "+-------+-----+\n",
      "\n",
      "\n",
      "Column: Upgrade\n",
      "+-------+-----+\n",
      "|Churned|count|\n",
      "+-------+-----+\n",
      "|      1|  112|\n",
      "|      0|  387|\n",
      "+-------+-----+\n",
      "\n",
      "\n",
      "Column: Error\n",
      "+-------+-----+\n",
      "|Churned|count|\n",
      "+-------+-----+\n",
      "|      1|   32|\n",
      "|      0|  220|\n",
      "+-------+-----+\n",
      "\n",
      "\n",
      "Column: Submit Upgrade\n",
      "+-------+-----+\n",
      "|Churned|count|\n",
      "+-------+-----+\n",
      "|      1|   32|\n",
      "|      0|  127|\n",
      "+-------+-----+\n",
      "\n",
      "\n"
     ]
    }
   ],
   "source": [
    "# Get count of Request by request type and churn\n",
    "cols_to_check = [x.page for x in df_ch.select('page').distinct().collect()]\n",
    "for colu in cols_to_check:\n",
    "    print('Column: {}'.format(colu))\n",
    "    df_ch.filter(df_ch.page == colu).groupBy('Churned') \\\n",
    "            .count() \\\n",
    "            .show() \n",
    "    print()"
   ]
  },
  {
   "cell_type": "markdown",
   "metadata": {},
   "source": [
    "It is observed that users who did not churn have had more interaction of different types with the platform."
   ]
  },
  {
   "cell_type": "markdown",
   "metadata": {},
   "source": [
    "# Feature Engineering\n",
    "Once you've familiarized yourself with the data, build out the features you find promising to train your model on. To work with the full dataset, you can follow the following steps.\n",
    "- Write a script to extract the necessary features from the smaller subset of data\n",
    "- Ensure that your script is scalable, using the best practices discussed in Lesson 3\n",
    "- Try your script on the full data set, debugging your script if necessary\n",
    "\n",
    "If you are working in the classroom workspace, you can just extract features based on the small subset of data contained here. Be sure to transfer over this work to the larger dataset when you work on your Spark cluster."
   ]
  },
  {
   "cell_type": "code",
   "execution_count": 69,
   "metadata": {},
   "outputs": [
    {
     "name": "stdout",
     "output_type": "stream",
     "text": [
      "+------+---+---+\n",
      "|userId|  F|  M|\n",
      "+------+---+---+\n",
      "|100010|  1|  0|\n",
      "|200002|  0|  1|\n",
      "|   125|  0|  1|\n",
      "|    51|  0|  1|\n",
      "|     7|  0|  1|\n",
      "+------+---+---+\n",
      "only showing top 5 rows\n",
      "\n"
     ]
    }
   ],
   "source": [
    "# Create dummy variable for the gender\n",
    "gender_dummy = df_ch.groupBy('userId').pivot('gender').agg(lit(1)).na.fill(0)\n",
    "gender_dummy.show(5)"
   ]
  },
  {
   "cell_type": "code",
   "execution_count": 70,
   "metadata": {},
   "outputs": [
    {
     "name": "stdout",
     "output_type": "stream",
     "text": [
      "+------+-----+----------+---------------+------+-------------------------+---------+-----+----+----+------+--------+-----------+-------------+--------+----------------+--------------+-----------+---------+-------+\n",
      "|userId|About|Add Friend|Add to Playlist|Cancel|Cancellation Confirmation|Downgrade|Error|Help|Home|Logout|NextSong|Roll Advert|Save Settings|Settings|Submit Downgrade|Submit Upgrade|Thumbs Down|Thumbs Up|Upgrade|\n",
      "+------+-----+----------+---------------+------+-------------------------+---------+-----+----+----+------+--------+-----------+-------------+--------+----------------+--------------+-----------+---------+-------+\n",
      "|200002|    3|         4|              8|     0|                        0|        5|    0|   2|  20|     5|     387|          7|            0|       3|               0|             1|          6|       21|      2|\n",
      "|100010|    1|         4|              7|     0|                        0|        0|    0|   2|  11|     5|     275|         52|            0|       0|               0|             0|          5|       17|      2|\n",
      "+------+-----+----------+---------------+------+-------------------------+---------+-----+----+----+------+--------+-----------+-------------+--------+----------------+--------------+-----------+---------+-------+\n",
      "only showing top 2 rows\n",
      "\n"
     ]
    }
   ],
   "source": [
    "df_actions = df_ch.groupBy('userId') \\\n",
    "        .pivot('page') \\\n",
    "        .count() \\\n",
    "        .na.fill(0)\n",
    "df_actions.show(2)"
   ]
  },
  {
   "cell_type": "code",
   "execution_count": 71,
   "metadata": {},
   "outputs": [
    {
     "name": "stdout",
     "output_type": "stream",
     "text": [
      "+------+------------------+\n",
      "|userId|      Day_Duration|\n",
      "+------+------------------+\n",
      "|200002| 13668.57142857143|\n",
      "|100010|            9269.0|\n",
      "|   125|            1774.0|\n",
      "|   124| 38627.30303030303|\n",
      "|    51|43809.692307692305|\n",
      "+------+------------------+\n",
      "only showing top 5 rows\n",
      "\n"
     ]
    }
   ],
   "source": [
    "# Calculate average day usage duration of the service for each user\n",
    "df_day_dur = df_ch.groupBy('userId', 'date').agg({'ts':'min'}) \\\n",
    "    .join(df_ch.groupBy('userId', 'date').agg({'ts':'max'}) , ['userId', 'date']) \\\n",
    "    .withColumn('Day_Duration', (col('max(ts)') - col('min(ts)')) / 1000) \\\n",
    "    .groupBy('userId').agg({'Day_Duration' : 'avg'}) \\\n",
    "    .withColumnRenamed('avg(Day_Duration)', 'Day_Duration')\n",
    "df_day_dur.show(5)"
   ]
  },
  {
   "cell_type": "code",
   "execution_count": 72,
   "metadata": {},
   "outputs": [
    {
     "name": "stdout",
     "output_type": "stream",
     "text": [
      "+------+------------------+\n",
      "|userId|          No_Songs|\n",
      "+------+------------------+\n",
      "|200002|              55.0|\n",
      "|100010|39.142857142857146|\n",
      "|   125|               8.0|\n",
      "|   124|         124.90625|\n",
      "|    51|158.46153846153845|\n",
      "+------+------------------+\n",
      "only showing top 5 rows\n",
      "\n"
     ]
    }
   ],
   "source": [
    "# Calculate average number of songs per day for each user\n",
    "df_day_songs = df_ch.filter(df_ch.song.isNotNull()).groupBy('userId', 'date').agg(countDistinct(df.song)) \\\n",
    "                     .groupBy('userId').agg({'count(DISTINCT song)' : 'avg'}) \\\n",
    "                     .withColumnRenamed('avg(count(DISTINCT song))', 'No_Songs')\n",
    "df_day_songs.show(5)"
   ]
  },
  {
   "cell_type": "code",
   "execution_count": 73,
   "metadata": {},
   "outputs": [
    {
     "name": "stdout",
     "output_type": "stream",
     "text": [
      "+------+----+----+\n",
      "|userId|free|paid|\n",
      "+------+----+----+\n",
      "|100010|   1|   0|\n",
      "|200002|   0|   1|\n",
      "|   125|   1|   0|\n",
      "+------+----+----+\n",
      "only showing top 3 rows\n",
      "\n"
     ]
    }
   ],
   "source": [
    "# Get the last recorded level of each user as dummy variable\n",
    "df_level = df_ch.select(['userId', 'level']).groupBy('userId').agg(last(df_ch.level)).withColumnRenamed('last(level, false)', 'last_level')\n",
    "level_dummy = df_level.groupBy('userId').pivot('last_level').agg(lit(1)).na.fill(0)\n",
    "level_dummy.show(3)"
   ]
  },
  {
   "cell_type": "code",
   "execution_count": 74,
   "metadata": {},
   "outputs": [],
   "source": [
    "# Join all relevant features together\n",
    "df_final = df_churned.join(level_dummy, ['userId'], 'left') \\\n",
    "            .join(gender_dummy, ['userId'], 'left') \\\n",
    "            .join(df_actions, ['userId'], 'left') \\\n",
    "            .join(df_day_songs, ['userId'], 'left') \\\n",
    "            .join(df_day_dur, ['userId'], 'left') \\\n",
    "            .withColumnRenamed('Churned', 'label')\n",
    "df_final.show(2)"
   ]
  },
  {
   "cell_type": "markdown",
   "metadata": {},
   "source": [
    "# Modeling\n",
    "Split the full dataset into train, test, and validation sets. Test out several of the machine learning methods you learned. Evaluate the accuracy of the various models, tuning parameters as necessary. Determine your winning model based on test accuracy and report results on the validation set. Since the churned users are a fairly small subset, I suggest using F1 score as the metric to optimize."
   ]
  },
  {
   "cell_type": "code",
   "execution_count": 76,
   "metadata": {},
   "outputs": [
    {
     "data": {
      "text/plain": [
       "<matplotlib.axes._subplots.AxesSubplot at 0x7f2889156860>"
      ]
     },
     "execution_count": 76,
     "metadata": {},
     "output_type": "execute_result"
    },
    {
     "data": {
      "image/png": "[encoded data removed]",
      "text/plain": [
       "<matplotlib.figure.Figure at 0x7f288918eb38>"
      ]
     },
     "metadata": {},
     "output_type": "display_data"
    }
   ],
   "source": [
    "# calculate the correlation matrix\n",
    "corr = df_final.toPandas().corr()\n",
    "\n",
    "# plot the correlation heatmap\n",
    "fig, ax = plt.subplots(figsize=(10,10))\n",
    "sns.heatmap(corr, ax=ax)"
   ]
  },
  {
   "cell_type": "markdown",
   "metadata": {},
   "source": [
    "### First experimentation with Logistic Regression"
   ]
  },
  {
   "cell_type": "code",
   "execution_count": 77,
   "metadata": {},
   "outputs": [],
   "source": [
    "# Define the features for the classification model\n",
    "feature_cols = df_final.columns[2:]\n",
    "# feature_cols.remove('Logout')\n",
    "# feature_cols.remove('Home')\n",
    "feature_cols.remove('Cancellation Confirmation')\n",
    "feature_cols.remove('Cancel')"
   ]
  },
  {
   "cell_type": "markdown",
   "metadata": {},
   "source": [
    "We experimented also with a small number of features (the ones with high correlation were removed). However, we got the best results using all features "
   ]
  },
  {
   "cell_type": "code",
   "execution_count": 37,
   "metadata": {},
   "outputs": [],
   "source": [
    "# Create a vector assembler for the relevant features\n",
    "assembler = VectorAssembler(inputCols=feature_cols, outputCol=\"features\")\n",
    "vector_df = assembler.transform(df_final)"
   ]
  },
  {
   "cell_type": "code",
   "execution_count": 37,
   "metadata": {},
   "outputs": [
    {
     "data": {
      "text/plain": [
       "[Row(userId='100010', label=0, free=1, paid=0, F=1, M=0, About=1, Add Friend=4, Add to Playlist=7, Cancel=0, Cancellation Confirmation=0, Downgrade=0, Error=0, Help=2, Home=11, Logout=5, NextSong=275, Roll Advert=52, Save Settings=0, Settings=0, Submit Downgrade=0, Submit Upgrade=0, Thumbs Down=5, Thumbs Up=17, Upgrade=2, No_Songs=39.142857142857146, Day_Duration=9269.0, features=DenseVector([1.0, 0.0, 1.0, 0.0, 1.0, 4.0, 7.0, 0.0, 0.0, 2.0, 11.0, 5.0, 275.0, 52.0, 0.0, 0.0, 0.0, 0.0, 5.0, 17.0, 2.0, 39.1429, 9269.0])),\n",
       " Row(userId='200002', label=0, free=0, paid=1, F=0, M=1, About=3, Add Friend=4, Add to Playlist=8, Cancel=0, Cancellation Confirmation=0, Downgrade=5, Error=0, Help=2, Home=20, Logout=5, NextSong=387, Roll Advert=7, Save Settings=0, Settings=3, Submit Downgrade=0, Submit Upgrade=1, Thumbs Down=6, Thumbs Up=21, Upgrade=2, No_Songs=55.0, Day_Duration=13668.57142857143, features=DenseVector([0.0, 1.0, 0.0, 1.0, 3.0, 4.0, 8.0, 5.0, 0.0, 2.0, 20.0, 5.0, 387.0, 7.0, 0.0, 3.0, 0.0, 1.0, 6.0, 21.0, 2.0, 55.0, 13668.5714]))]"
      ]
     },
     "execution_count": 37,
     "metadata": {},
     "output_type": "execute_result"
    }
   ],
   "source": [
    "# Check how the vector looks like\n",
    "vector_df.head(2)"
   ]
  },
  {
   "cell_type": "code",
   "execution_count": 38,
   "metadata": {},
   "outputs": [],
   "source": [
    "# Create a MinMaxScaler so that all values in the vector are between 0 and 1\n",
    "scaler = MinMaxScaler(inputCol=\"features\", outputCol=\"scaledFeatures\")\n",
    "scale_model = scaler.fit(vector_df.select(\"features\"))\n",
    "scale_df = scale_model.transform(vector_df)"
   ]
  },
  {
   "cell_type": "code",
   "execution_count": 39,
   "metadata": {},
   "outputs": [
    {
     "data": {
      "text/plain": [
       "[Row(features=DenseVector([1.0, 0.0, 1.0, 0.0, 1.0, 4.0, 7.0, 0.0, 0.0, 2.0, 11.0, 5.0, 275.0, 52.0, 0.0, 0.0, 0.0, 0.0, 5.0, 17.0, 2.0, 39.1429, 9269.0]), scaledFeatures=DenseVector([1.0, 0.0, 1.0, 0.0, 0.04, 0.028, 0.0292, 0.0, 0.0, 0.0435, 0.031, 0.0403, 0.034, 0.4062, 0.0, 0.0, 0.0, 0.0, 0.0667, 0.0389, 0.1333, 0.2325, 0.1659])),\n",
       " Row(features=DenseVector([0.0, 1.0, 0.0, 1.0, 3.0, 4.0, 8.0, 5.0, 0.0, 2.0, 20.0, 5.0, 387.0, 7.0, 0.0, 3.0, 0.0, 1.0, 6.0, 21.0, 2.0, 55.0, 13668.5714]), scaledFeatures=DenseVector([0.0, 1.0, 0.0, 1.0, 0.12, 0.028, 0.0333, 0.0685, 0.0, 0.0435, 0.0563, 0.0403, 0.048, 0.0547, 0.0, 0.0577, 0.0, 0.25, 0.08, 0.0481, 0.1333, 0.3345, 0.2484]))]"
      ]
     },
     "execution_count": 39,
     "metadata": {},
     "output_type": "execute_result"
    }
   ],
   "source": [
    "# Check how the scaled vector looks like\n",
    "scale_df.select('features', 'scaledFeatures').head(2)"
   ]
  },
  {
   "cell_type": "code",
   "execution_count": 40,
   "metadata": {},
   "outputs": [],
   "source": [
    "# Select only the relevant field for the model (features vector and label)\n",
    "df_cl = scale_df.select('scaledFeatures', 'label')"
   ]
  },
  {
   "cell_type": "code",
   "execution_count": 41,
   "metadata": {},
   "outputs": [],
   "source": [
    "# Prepare the logistic regression model\n",
    "lr =  LogisticRegression(featuresCol='scaledFeatures', labelCol='label', maxIter=10, regParam=0.0, elasticNetParam=0)"
   ]
  },
  {
   "cell_type": "code",
   "execution_count": 42,
   "metadata": {},
   "outputs": [],
   "source": [
    "# Train the model\n",
    "lr_model = lr.fit(df_cl)"
   ]
  },
  {
   "cell_type": "code",
   "execution_count": 43,
   "metadata": {},
   "outputs": [],
   "source": [
    "# Get the summary statistics of the model\n",
    "summary = lr_model.summary"
   ]
  },
  {
   "cell_type": "code",
   "execution_count": 44,
   "metadata": {},
   "outputs": [
    {
     "data": {
      "text/plain": [
       "0.7866666666666666"
      ]
     },
     "execution_count": 44,
     "metadata": {},
     "output_type": "execute_result"
    }
   ],
   "source": [
    "# Get the accuracy\n",
    "summary.accuracy"
   ]
  },
  {
   "cell_type": "code",
   "execution_count": 45,
   "metadata": {},
   "outputs": [
    {
     "name": "stdout",
     "output_type": "stream",
     "text": [
      "+--------------------+-----+--------------------+--------------------+----------+\n",
      "|      scaledFeatures|label|       rawPrediction|         probability|prediction|\n",
      "+--------------------+-----+--------------------+--------------------+----------+\n",
      "|[1.0,0.0,1.0,0.0,...|  0.0|[0.93808591823398...|[0.71871285972398...|       0.0|\n",
      "|[0.0,1.0,0.0,1.0,...|  0.0|[1.87059515393037...|[0.86652712671669...|       0.0|\n",
      "|[1.0,0.0,0.0,1.0,...|  1.0|[1.54640368508975...|[0.82439370515009...|       0.0|\n",
      "|[0.0,1.0,1.0,0.0,...|  0.0|[6.77246847092840...|[0.99885644412340...|       0.0|\n",
      "|[0.0,1.0,0.0,1.0,...|  1.0|[0.25028407775576...|[0.56224642086817...|       0.0|\n",
      "|[1.0,0.0,0.0,1.0,...|  0.0|[1.53950481970503...|[0.82339272904799...|       0.0|\n",
      "|[0.0,1.0,0.0,1.0,...|  0.0|[1.76585341521188...|[0.85394124447830...|       0.0|\n",
      "|[0.0,1.0,1.0,0.0,...|  1.0|[-0.3264562347269...|[0.41910312483350...|       1.0|\n",
      "|[0.0,1.0,1.0,0.0,...|  0.0|[1.65358071550533...|[0.83937440729359...|       0.0|\n",
      "|[0.0,1.0,0.0,1.0,...|  1.0|[1.38705835114409...|[0.80012221038767...|       0.0|\n",
      "+--------------------+-----+--------------------+--------------------+----------+\n",
      "only showing top 10 rows\n",
      "\n"
     ]
    }
   ],
   "source": [
    "# Get a snapshot of the predictions\n",
    "summary.predictions.show(10)"
   ]
  },
  {
   "cell_type": "markdown",
   "metadata": {},
   "source": [
    "## Testing different models"
   ]
  },
  {
   "cell_type": "markdown",
   "metadata": {},
   "source": [
    "#### Split into rest (train and test) and validation sets"
   ]
  },
  {
   "cell_type": "code",
   "execution_count": 78,
   "metadata": {},
   "outputs": [],
   "source": [
    "rest, validation = df_final.randomSplit([0.8, 0.2], seed=42)"
   ]
  },
  {
   "cell_type": "code",
   "execution_count": 79,
   "metadata": {},
   "outputs": [],
   "source": [
    "# Prepare assembler, scaler and the F1 evaluator for all models\n",
    "assembler = VectorAssembler(inputCols=feature_cols, outputCol='vec_features')\n",
    "scaler = MinMaxScaler(inputCol='vec_features', outputCol='scaled_features')\n",
    "f1_evaluator = MulticlassClassificationEvaluator(metricName='f1')"
   ]
  },
  {
   "cell_type": "markdown",
   "metadata": {},
   "source": [
    "#### Test Logistic Regression"
   ]
  },
  {
   "cell_type": "code",
   "execution_count": 72,
   "metadata": {},
   "outputs": [],
   "source": [
    "# Define the logistic regression model for fine tuning\n",
    "lr =  LogisticRegression(featuresCol='scaled_features', elasticNetParam=0)\n",
    "\n",
    "pipeline = Pipeline(stages=[assembler, scaler, lr])\n",
    "\n",
    "paramGrid = ParamGridBuilder() \\\n",
    "    .addGrid(lr.regParam,[0.01, 0.05, 0.1]) \\\n",
    "    .addGrid(lr.fitIntercept, [False, True]) \\\n",
    "    .addGrid(lr.maxIter, [10, 15]) \\\n",
    "    .build()\n",
    "\n",
    "crossval = CrossValidator(estimator=pipeline,\n",
    "                          estimatorParamMaps=paramGrid,\n",
    "                          evaluator=f1_evaluator,\n",
    "                          numFolds=3)"
   ]
  },
  {
   "cell_type": "code",
   "execution_count": 73,
   "metadata": {},
   "outputs": [
    {
     "name": "stdout",
     "output_type": "stream",
     "text": [
      "Fitting the model took 32.14635683298111 minutes\n"
     ]
    }
   ],
   "source": [
    "# Train the model and measure time efficiency\n",
    "t1 = time.time()\n",
    "cvModel_lr = crossval.fit(rest)\n",
    "t2 = time.time()\n",
    "print('Fitting the model took {} minutes'.format((t2 - t1) / 60.0))"
   ]
  },
  {
   "cell_type": "code",
   "execution_count": 74,
   "metadata": {},
   "outputs": [
    {
     "data": {
      "text/plain": [
       "[0.7345799988613436,\n",
       " 0.7190050078146545,\n",
       " 0.7345799988613436,\n",
       " 0.7190050078146545,\n",
       " 0.6964808936350945,\n",
       " 0.6838493564421538,\n",
       " 0.6865793591721565,\n",
       " 0.6865793591721565,\n",
       " 0.6831619510764826,\n",
       " 0.6831619510764826,\n",
       " 0.680528154194898,\n",
       " 0.6933400802658799]"
      ]
     },
     "execution_count": 74,
     "metadata": {},
     "output_type": "execute_result"
    }
   ],
   "source": [
    "# Get metrics for crossvalidation\n",
    "cvModel_lr.avgMetrics"
   ]
  },
  {
   "cell_type": "code",
   "execution_count": 75,
   "metadata": {},
   "outputs": [
    {
     "name": "stdout",
     "output_type": "stream",
     "text": [
      "aggregationDepth: 2\n",
      "elasticNetParam: 0.0\n",
      "family: auto\n",
      "featuresCol: scaled_features\n",
      "fitIntercept: False\n",
      "labelCol: label\n",
      "maxIter: 10\n",
      "predictionCol: prediction\n",
      "probabilityCol: probability\n",
      "rawPredictionCol: rawPrediction\n",
      "regParam: 0.01\n",
      "standardization: True\n",
      "threshold: 0.5\n",
      "tol: 1e-06\n"
     ]
    }
   ],
   "source": [
    "# Get parameters of the best model in the crossvalidation\n",
    "bestPipeline_lr = cvModel_lr.bestModel\n",
    "bestModel_lr = bestPipeline_lr.stages[2]\n",
    "bestPa rams_lr = bestModel_lr.extractParamMap()\n",
    "for k, v in bestParams_lr.items():\n",
    "    print('{}: {}'.format(k.name, v))"
   ]
  },
  {
   "cell_type": "code",
   "execution_count": 76,
   "metadata": {},
   "outputs": [],
   "source": [
    "# Predict using the validation set\n",
    "results_lr = bestPipeline_lr.transform(validation)"
   ]
  },
  {
   "cell_type": "code",
   "execution_count": 78,
   "metadata": {},
   "outputs": [
    {
     "data": {
      "text/plain": [
       "0.7941176470588235"
      ]
     },
     "execution_count": 78,
     "metadata": {},
     "output_type": "execute_result"
    }
   ],
   "source": [
    "# Get accuracy of the validation set\n",
    "f1_evaluator.evaluate(results_lr.select(['label', 'prediction']), {f1_evaluator.metricName: 'accuracy'})"
   ]
  },
  {
   "cell_type": "code",
   "execution_count": 79,
   "metadata": {},
   "outputs": [
    {
     "data": {
      "text/plain": [
       "0.7262656475019387"
      ]
     },
     "execution_count": 79,
     "metadata": {},
     "output_type": "execute_result"
    }
   ],
   "source": [
    "# Get F1 score of the validation set\n",
    "f1_evaluator.evaluate(results_lr)"
   ]
  },
  {
   "cell_type": "markdown",
   "metadata": {},
   "source": [
    "#### Test Random Forest Classification"
   ]
  },
  {
   "cell_type": "code",
   "execution_count": 80,
   "metadata": {},
   "outputs": [],
   "source": [
    "# Define the random forest model for fine tuning\n",
    "rf = RandomForestClassifier(featuresCol='scaled_features')\n",
    "\n",
    "pipeline = Pipeline(stages=[assembler, scaler, rf])\n",
    "\n",
    "paramGrid = ParamGridBuilder() \\\n",
    "    .addGrid(rf.numTrees,[int(x) for x in np.linspace(start = 5, stop = 15, num = 3)]) \\\n",
    "    .addGrid(rf.maxDepth,[int(x) for x in np.linspace(start = 5, stop = 10, num = 2)]) \\\n",
    "    .addGrid(rf.subsamplingRate,[x for x in np.linspace(start = 0.01, stop = 1, num = 3)]) \\\n",
    "    .build()\n",
    "\n",
    "crossval_rd = CrossValidator(estimator=pipeline,\n",
    "                          estimatorParamMaps=paramGrid,\n",
    "                          evaluator=f1_evaluator,\n",
    "                          numFolds=3)"
   ]
  },
  {
   "cell_type": "code",
   "execution_count": 81,
   "metadata": {},
   "outputs": [
    {
     "name": "stdout",
     "output_type": "stream",
     "text": [
      "Fitting the model took 40.393283331394194 minutes\n"
     ]
    }
   ],
   "source": [
    "# Train the model and measure time efficiency\n",
    "t1 = time.time()\n",
    "cvModel_rd = crossval_rd.fit(rest)\n",
    "t2 = time.time()\n",
    "print('Fitting the model took {} minutes'.format((t2 - t1) / 60.0)) "
   ]
  },
  {
   "cell_type": "code",
   "execution_count": 82,
   "metadata": {},
   "outputs": [
    {
     "data": {
      "text/plain": [
       "[0.6690411966110177,\n",
       " 0.7288081814064541,\n",
       " 0.6661642461716739,\n",
       " 0.6690411966110177,\n",
       " 0.7101349930125338,\n",
       " 0.6636307163609324,\n",
       " 0.6650076075046898,\n",
       " 0.6723366920478853,\n",
       " 0.6899516699394579,\n",
       " 0.6650076075046898,\n",
       " 0.6696924001587421,\n",
       " 0.6595236481095739,\n",
       " 0.6690411966110177,\n",
       " 0.6787958152170596,\n",
       " 0.6775905959939549,\n",
       " 0.6690411966110177,\n",
       " 0.6759875124087567,\n",
       " 0.6766139371167846]"
      ]
     },
     "execution_count": 82,
     "metadata": {},
     "output_type": "execute_result"
    }
   ],
   "source": [
    "# Get metrics for crossvalidation\n",
    "cvModel_rd.avgMetrics"
   ]
  },
  {
   "cell_type": "code",
   "execution_count": 83,
   "metadata": {},
   "outputs": [
    {
     "name": "stdout",
     "output_type": "stream",
     "text": [
      "cacheNodeIds: False\n",
      "checkpointInterval: 10\n",
      "featureSubsetStrategy: auto\n",
      "featuresCol: scaled_features\n",
      "impurity: gini\n",
      "labelCol: label\n",
      "maxBins: 32\n",
      "maxDepth: 5\n",
      "maxMemoryInMB: 256\n",
      "minInfoGain: 0.0\n",
      "minInstancesPerNode: 1\n",
      "numTrees: 5\n",
      "predictionCol: prediction\n",
      "probabilityCol: probability\n",
      "rawPredictionCol: rawPrediction\n",
      "seed: 760658399392429169\n",
      "subsamplingRate: 0.505\n"
     ]
    }
   ],
   "source": [
    "# Get parameters of the best model in the crossvalidation\n",
    "bestPipeline_rd = cvModel_rd.bestModel\n",
    "bestLRModel_rd = bestPipeline_rd.stages[2]\n",
    "bestParams_rd = bestLRModel_rd.extractParamMap()\n",
    "for k, v in bestParams_rd.items():\n",
    "    print('{}: {}'.format(k.name, v))"
   ]
  },
  {
   "cell_type": "code",
   "execution_count": 84,
   "metadata": {},
   "outputs": [],
   "source": [
    "# Predict using the validation set\n",
    "results_rd = cvModel_rd.bestModel.transform(validation)"
   ]
  },
  {
   "cell_type": "code",
   "execution_count": 85,
   "metadata": {},
   "outputs": [
    {
     "data": {
      "text/plain": [
       "0.7352941176470589"
      ]
     },
     "execution_count": 85,
     "metadata": {},
     "output_type": "execute_result"
    }
   ],
   "source": [
    "# Get accuracy of the validation set\n",
    "f1_evaluator.evaluate(results_rd.select(['label', 'prediction']), {f1_evaluator.metricName: 'accuracy'})"
   ]
  },
  {
   "cell_type": "code",
   "execution_count": 86,
   "metadata": {},
   "outputs": [
    {
     "data": {
      "text/plain": [
       "0.6480558325024925"
      ]
     },
     "execution_count": 86,
     "metadata": {},
     "output_type": "execute_result"
    }
   ],
   "source": [
    "# Get F1 score of the validation set\n",
    "f1_evaluator.evaluate(results_rd)"
   ]
  },
  {
   "cell_type": "markdown",
   "metadata": {},
   "source": [
    "#### Test the Gradient-boosted tree classifier"
   ]
  },
  {
   "cell_type": "code",
   "execution_count": 41,
   "metadata": {},
   "outputs": [],
   "source": [
    "# Define the gradinet-boosted tree model for fine tuning\n",
    "gbt = GBTClassifier(featuresCol='scaled_features')\n",
    "#max_depths = np.linspace(1, 32, 32, endpoint=True)\n",
    "pipeline = Pipeline(stages=[assembler, scaler, gbt])\n",
    "\n",
    "paramGrid = ParamGridBuilder() \\\n",
    "    .addGrid(gbt.maxIter, [int(x) for x in np.linspace(start = 5, stop = 20, num = 2)]) \\\n",
    "    .addGrid(gbt.maxDepth, [int(x) for x in np.linspace(10, 30, 2, endpoint=True)]) \\\n",
    "    .build()\n",
    "\n",
    "crossval_gbt = CrossValidator(estimator=pipeline,\n",
    "                          estimatorParamMaps=paramGrid,\n",
    "                          evaluator=f1_evaluator,\n",
    "                          numFolds=3)"
   ]
  },
  {
   "cell_type": "code",
   "execution_count": 42,
   "metadata": {},
   "outputs": [
    {
     "name": "stdout",
     "output_type": "stream",
     "text": [
      "Fitting the model took 105.65863548517227 minutes\n"
     ]
    }
   ],
   "source": [
    "# Train the model and measure time efficiency\n",
    "t1 = time.time()\n",
    "cvModel_gbt = crossval_gbt.fit(rest)\n",
    "t2 = time.time()\n",
    "print('Fitting the model took {} minutes'.format((t2 - t1) / 60.0))"
   ]
  },
  {
   "cell_type": "code",
   "execution_count": 44,
   "metadata": {},
   "outputs": [
    {
     "data": {
      "text/plain": [
       "[0.7182239793697653, 0.713607404481518, 0.7242501501435376, 0.713607404481518]"
      ]
     },
     "execution_count": 44,
     "metadata": {},
     "output_type": "execute_result"
    }
   ],
   "source": [
    "# Get metrics for crossvalidation\n",
    "cvModel_gbt.avgMetrics"
   ]
  },
  {
   "cell_type": "code",
   "execution_count": 47,
   "metadata": {},
   "outputs": [
    {
     "name": "stdout",
     "output_type": "stream",
     "text": [
      "cacheNodeIds: False\n",
      "checkpointInterval: 10\n",
      "featureSubsetStrategy: all\n",
      "featuresCol: scaled_features\n",
      "labelCol: label\n",
      "lossType: logistic\n",
      "maxBins: 32\n",
      "maxDepth: 10\n",
      "maxIter: 20\n",
      "maxMemoryInMB: 256\n",
      "minInfoGain: 0.0\n",
      "minInstancesPerNode: 1\n",
      "predictionCol: prediction\n",
      "seed: 2065291258700501668\n",
      "stepSize: 0.1\n",
      "subsamplingRate: 1.0\n"
     ]
    }
   ],
   "source": [
    "# Get parameters of the best model in the crossvalidation\n",
    "bestPipeline_gbt = cvModel_gbt.bestModel\n",
    "bestLRModel_gbt = bestPipeline_gbt.stages[2]\n",
    "bestParams_gbt = bestLRModel_gbt.extractParamMap()\n",
    "for k, v in bestParams_gbt.items():\n",
    "    print('{}: {}'.format(k.name, v))"
   ]
  },
  {
   "cell_type": "code",
   "execution_count": 50,
   "metadata": {},
   "outputs": [],
   "source": [
    "# Predict using the validation set\n",
    "results_gbt = cvModel_gbt.bestModel.transform(validation)"
   ]
  },
  {
   "cell_type": "code",
   "execution_count": 54,
   "metadata": {},
   "outputs": [
    {
     "name": "stdout",
     "output_type": "stream",
     "text": [
      "22\n",
      "34\n"
     ]
    }
   ],
   "source": [
    "# Get accuracy of the validation set\n",
    "print(results_gbt.filter(results_gbt.label == results_gbt.prediction).count())\n",
    "print(results_gbt.count())"
   ]
  },
  {
   "cell_type": "code",
   "execution_count": 1,
   "metadata": {},
   "outputs": [
    {
     "data": {
      "text/plain": [
       "0.6470588235294118"
      ]
     },
     "execution_count": 1,
     "metadata": {},
     "output_type": "execute_result"
    }
   ],
   "source": [
    "22/34"
   ]
  },
  {
   "cell_type": "code",
   "execution_count": 53,
   "metadata": {},
   "outputs": [
    {
     "data": {
      "text/plain": [
       "0.6470588235294118"
      ]
     },
     "execution_count": 53,
     "metadata": {},
     "output_type": "execute_result"
    }
   ],
   "source": [
    "# Get F1 score of the validation set\n",
    "f1_evaluator.evaluate(results_gbt)"
   ]
  },
  {
   "cell_type": "code",
   "execution_count": 11,
   "metadata": {},
   "outputs": [
    {
     "data": {
      "image/png": "[encoded data removed]",
      "text/plain": [
       "<matplotlib.figure.Figure at 0x7f49996e5b00>"
      ]
     },
     "metadata": {
      "needs_background": "light"
     },
     "output_type": "display_data"
    }
   ],
   "source": [
    "# Summarize results in one dataframe and plot\n",
    "data = {1: ['Logistic Regression', 0.794, 0.726], 2: ['Random Forest', 0.735, 0.648], 3: ['Gradient-boosted Tree', 0.647, 0.647]}\n",
    "results_pd = pd.DataFrame.from_dict(data, orient='index', columns=['Method', 'Accuracy', 'F1-Score'])\n",
    "\n",
    "results_pd.plot(x='Method', y=[\"Accuracy\", \"F1-Score\"], kind=\"bar\",figsize=(10,10))\n",
    "plt.show();"
   ]
  },
  {
   "cell_type": "markdown",
   "metadata": {},
   "source": [
    "# Final Steps\n",
    "Clean up your code, adding comments and renaming variables to make the code easier to read and maintain. Refer to the Spark Project Overview page and Data Scientist Capstone Project Rubric to make sure you are including all components of the capstone project and meet all expectations. Remember, this includes thorough documentation in a README file in a Github repository, as well as a web app or blog post."
   ]
  }
 ],
 "metadata": {
  "kernelspec": {
   "display_name": "Python 3",
   "language": "python",
   "name": "python3"
  },
  "language_info": {
   "codemirror_mode": {
    "name": "ipython",
    "version": 3
   },
   "file_extension": ".py",
   "mimetype": "text/x-python",
   "name": "python",
   "nbconvert_exporter": "python",
   "pygments_lexer": "ipython3",
   "version": "3.6.3"
  }
 },
 "nbformat": 4,
 "nbformat_minor": 2
}
